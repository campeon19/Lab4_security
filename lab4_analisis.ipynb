{
 "cells": [
  {
   "cell_type": "code",
   "execution_count": 1,
   "metadata": {},
   "outputs": [],
   "source": [
    "import pandas as pd\n",
    "import numpy as np\n",
    "import matplotlib.pyplot as plt\n",
    "from sklearn.cluster import KMeans\n",
    "from sklearn.preprocessing import StandardScaler"
   ]
  },
  {
   "cell_type": "code",
   "execution_count": 2,
   "metadata": {},
   "outputs": [
    {
     "data": {
      "text/html": [
       "<div>\n",
       "<style scoped>\n",
       "    .dataframe tbody tr th:only-of-type {\n",
       "        vertical-align: middle;\n",
       "    }\n",
       "\n",
       "    .dataframe tbody tr th {\n",
       "        vertical-align: top;\n",
       "    }\n",
       "\n",
       "    .dataframe thead th {\n",
       "        text-align: right;\n",
       "    }\n",
       "</style>\n",
       "<table border=\"1\" class=\"dataframe\">\n",
       "  <thead>\n",
       "    <tr style=\"text-align: right;\">\n",
       "      <th></th>\n",
       "      <th>name</th>\n",
       "      <th>KERNEL32.DLL</th>\n",
       "      <th>LoadLibraryA</th>\n",
       "      <th>ExitProcess</th>\n",
       "      <th>GetProcAddress</th>\n",
       "      <th>VirtualProtect</th>\n",
       "      <th>MSVCRT.dll</th>\n",
       "      <th>atol</th>\n",
       "      <th>SHELL32.dll</th>\n",
       "      <th>SHChangeNotify</th>\n",
       "      <th>...</th>\n",
       "      <th>_iob</th>\n",
       "      <th>NETAPI32.dll</th>\n",
       "      <th>Netbios</th>\n",
       "      <th>PSAPI.DLL</th>\n",
       "      <th>EnumProcessModules</th>\n",
       "      <th>GetDC</th>\n",
       "      <th>ntdll.dll</th>\n",
       "      <th>WSAGetLastError</th>\n",
       "      <th>ShellExecuteA</th>\n",
       "      <th>WSASetLastError</th>\n",
       "    </tr>\n",
       "  </thead>\n",
       "  <tbody>\n",
       "    <tr>\n",
       "      <th>0</th>\n",
       "      <td>99A39866A657A10949FCB6D634BB30D5</td>\n",
       "      <td>1.0</td>\n",
       "      <td>1.0</td>\n",
       "      <td>1.0</td>\n",
       "      <td>1.0</td>\n",
       "      <td>1.0</td>\n",
       "      <td>1.0</td>\n",
       "      <td>1.0</td>\n",
       "      <td>1.0</td>\n",
       "      <td>1.0</td>\n",
       "      <td>...</td>\n",
       "      <td>0.0</td>\n",
       "      <td>0.0</td>\n",
       "      <td>0.0</td>\n",
       "      <td>0.0</td>\n",
       "      <td>0.0</td>\n",
       "      <td>0.0</td>\n",
       "      <td>0.0</td>\n",
       "      <td>0.0</td>\n",
       "      <td>0.0</td>\n",
       "      <td>0.0</td>\n",
       "    </tr>\n",
       "    <tr>\n",
       "      <th>1</th>\n",
       "      <td>KLp90_6D5C8FC4B14559F73B6136D85B94198</td>\n",
       "      <td>0.0</td>\n",
       "      <td>0.0</td>\n",
       "      <td>0.0</td>\n",
       "      <td>0.0</td>\n",
       "      <td>0.0</td>\n",
       "      <td>1.0</td>\n",
       "      <td>1.0</td>\n",
       "      <td>1.0</td>\n",
       "      <td>0.0</td>\n",
       "      <td>...</td>\n",
       "      <td>0.0</td>\n",
       "      <td>0.0</td>\n",
       "      <td>0.0</td>\n",
       "      <td>0.0</td>\n",
       "      <td>0.0</td>\n",
       "      <td>0.0</td>\n",
       "      <td>0.0</td>\n",
       "      <td>0.0</td>\n",
       "      <td>0.0</td>\n",
       "      <td>0.0</td>\n",
       "    </tr>\n",
       "    <tr>\n",
       "      <th>2</th>\n",
       "      <td>SAM_B659D71AE168E774FAAF38DB30F4A84</td>\n",
       "      <td>0.0</td>\n",
       "      <td>0.0</td>\n",
       "      <td>0.0</td>\n",
       "      <td>0.0</td>\n",
       "      <td>0.0</td>\n",
       "      <td>1.0</td>\n",
       "      <td>1.0</td>\n",
       "      <td>1.0</td>\n",
       "      <td>0.0</td>\n",
       "      <td>...</td>\n",
       "      <td>0.0</td>\n",
       "      <td>0.0</td>\n",
       "      <td>0.0</td>\n",
       "      <td>0.0</td>\n",
       "      <td>0.0</td>\n",
       "      <td>0.0</td>\n",
       "      <td>0.0</td>\n",
       "      <td>0.0</td>\n",
       "      <td>0.0</td>\n",
       "      <td>0.0</td>\n",
       "    </tr>\n",
       "    <tr>\n",
       "      <th>3</th>\n",
       "      <td>FTTR9EA3C16194CE354C244C1B74C46CD92E</td>\n",
       "      <td>1.0</td>\n",
       "      <td>1.0</td>\n",
       "      <td>1.0</td>\n",
       "      <td>1.0</td>\n",
       "      <td>1.0</td>\n",
       "      <td>1.0</td>\n",
       "      <td>1.0</td>\n",
       "      <td>0.0</td>\n",
       "      <td>0.0</td>\n",
       "      <td>...</td>\n",
       "      <td>0.0</td>\n",
       "      <td>0.0</td>\n",
       "      <td>0.0</td>\n",
       "      <td>0.0</td>\n",
       "      <td>0.0</td>\n",
       "      <td>0.0</td>\n",
       "      <td>0.0</td>\n",
       "      <td>0.0</td>\n",
       "      <td>0.0</td>\n",
       "      <td>0.0</td>\n",
       "    </tr>\n",
       "    <tr>\n",
       "      <th>4</th>\n",
       "      <td>GFT4_7DDD3D72EAD03C7518F5D47650C8572</td>\n",
       "      <td>0.0</td>\n",
       "      <td>0.0</td>\n",
       "      <td>0.0</td>\n",
       "      <td>0.0</td>\n",
       "      <td>0.0</td>\n",
       "      <td>1.0</td>\n",
       "      <td>1.0</td>\n",
       "      <td>0.0</td>\n",
       "      <td>0.0</td>\n",
       "      <td>...</td>\n",
       "      <td>0.0</td>\n",
       "      <td>0.0</td>\n",
       "      <td>0.0</td>\n",
       "      <td>0.0</td>\n",
       "      <td>0.0</td>\n",
       "      <td>0.0</td>\n",
       "      <td>0.0</td>\n",
       "      <td>0.0</td>\n",
       "      <td>0.0</td>\n",
       "      <td>0.0</td>\n",
       "    </tr>\n",
       "  </tbody>\n",
       "</table>\n",
       "<p>5 rows × 130 columns</p>\n",
       "</div>"
      ],
      "text/plain": [
       "                                    name  KERNEL32.DLL  LoadLibraryA  \\\n",
       "0       99A39866A657A10949FCB6D634BB30D5           1.0           1.0   \n",
       "1  KLp90_6D5C8FC4B14559F73B6136D85B94198           0.0           0.0   \n",
       "2    SAM_B659D71AE168E774FAAF38DB30F4A84           0.0           0.0   \n",
       "3   FTTR9EA3C16194CE354C244C1B74C46CD92E           1.0           1.0   \n",
       "4   GFT4_7DDD3D72EAD03C7518F5D47650C8572           0.0           0.0   \n",
       "\n",
       "   ExitProcess  GetProcAddress  VirtualProtect  MSVCRT.dll  atol  SHELL32.dll  \\\n",
       "0          1.0             1.0             1.0         1.0   1.0          1.0   \n",
       "1          0.0             0.0             0.0         1.0   1.0          1.0   \n",
       "2          0.0             0.0             0.0         1.0   1.0          1.0   \n",
       "3          1.0             1.0             1.0         1.0   1.0          0.0   \n",
       "4          0.0             0.0             0.0         1.0   1.0          0.0   \n",
       "\n",
       "   SHChangeNotify  ...  _iob  NETAPI32.dll  Netbios  PSAPI.DLL  \\\n",
       "0             1.0  ...   0.0           0.0      0.0        0.0   \n",
       "1             0.0  ...   0.0           0.0      0.0        0.0   \n",
       "2             0.0  ...   0.0           0.0      0.0        0.0   \n",
       "3             0.0  ...   0.0           0.0      0.0        0.0   \n",
       "4             0.0  ...   0.0           0.0      0.0        0.0   \n",
       "\n",
       "   EnumProcessModules  GetDC  ntdll.dll  WSAGetLastError  ShellExecuteA  \\\n",
       "0                 0.0    0.0        0.0              0.0            0.0   \n",
       "1                 0.0    0.0        0.0              0.0            0.0   \n",
       "2                 0.0    0.0        0.0              0.0            0.0   \n",
       "3                 0.0    0.0        0.0              0.0            0.0   \n",
       "4                 0.0    0.0        0.0              0.0            0.0   \n",
       "\n",
       "   WSASetLastError  \n",
       "0              0.0  \n",
       "1              0.0  \n",
       "2              0.0  \n",
       "3              0.0  \n",
       "4              0.0  \n",
       "\n",
       "[5 rows x 130 columns]"
      ]
     },
     "execution_count": 2,
     "metadata": {},
     "output_type": "execute_result"
    }
   ],
   "source": [
    "df = pd.read_csv('malwr.csv')\n",
    "df = df.drop(['Unnamed: 0'], axis=1)\n",
    "df.head()"
   ]
  },
  {
   "cell_type": "code",
   "execution_count": 3,
   "metadata": {},
   "outputs": [
    {
     "data": {
      "text/plain": [
       "(40, 130)"
      ]
     },
     "execution_count": 3,
     "metadata": {},
     "output_type": "execute_result"
    }
   ],
   "source": [
    "df.shape"
   ]
  },
  {
   "cell_type": "code",
   "execution_count": 4,
   "metadata": {},
   "outputs": [],
   "source": [
    "#drop name column\n",
    "df = df.drop(['name'], axis=1)"
   ]
  },
  {
   "cell_type": "code",
   "execution_count": 5,
   "metadata": {},
   "outputs": [
    {
     "data": {
      "text/html": [
       "<div>\n",
       "<style scoped>\n",
       "    .dataframe tbody tr th:only-of-type {\n",
       "        vertical-align: middle;\n",
       "    }\n",
       "\n",
       "    .dataframe tbody tr th {\n",
       "        vertical-align: top;\n",
       "    }\n",
       "\n",
       "    .dataframe thead th {\n",
       "        text-align: right;\n",
       "    }\n",
       "</style>\n",
       "<table border=\"1\" class=\"dataframe\">\n",
       "  <thead>\n",
       "    <tr style=\"text-align: right;\">\n",
       "      <th></th>\n",
       "      <th>KERNEL32.DLL</th>\n",
       "      <th>LoadLibraryA</th>\n",
       "      <th>ExitProcess</th>\n",
       "      <th>GetProcAddress</th>\n",
       "      <th>VirtualProtect</th>\n",
       "      <th>MSVCRT.dll</th>\n",
       "      <th>atol</th>\n",
       "      <th>SHELL32.dll</th>\n",
       "      <th>SHChangeNotify</th>\n",
       "      <th>USER32.dll</th>\n",
       "      <th>...</th>\n",
       "      <th>_iob</th>\n",
       "      <th>NETAPI32.dll</th>\n",
       "      <th>Netbios</th>\n",
       "      <th>PSAPI.DLL</th>\n",
       "      <th>EnumProcessModules</th>\n",
       "      <th>GetDC</th>\n",
       "      <th>ntdll.dll</th>\n",
       "      <th>WSAGetLastError</th>\n",
       "      <th>ShellExecuteA</th>\n",
       "      <th>WSASetLastError</th>\n",
       "    </tr>\n",
       "  </thead>\n",
       "  <tbody>\n",
       "    <tr>\n",
       "      <th>0</th>\n",
       "      <td>1</td>\n",
       "      <td>1</td>\n",
       "      <td>1</td>\n",
       "      <td>1</td>\n",
       "      <td>1</td>\n",
       "      <td>1</td>\n",
       "      <td>1</td>\n",
       "      <td>1</td>\n",
       "      <td>1</td>\n",
       "      <td>1</td>\n",
       "      <td>...</td>\n",
       "      <td>0</td>\n",
       "      <td>0</td>\n",
       "      <td>0</td>\n",
       "      <td>0</td>\n",
       "      <td>0</td>\n",
       "      <td>0</td>\n",
       "      <td>0</td>\n",
       "      <td>0</td>\n",
       "      <td>0</td>\n",
       "      <td>0</td>\n",
       "    </tr>\n",
       "    <tr>\n",
       "      <th>1</th>\n",
       "      <td>0</td>\n",
       "      <td>0</td>\n",
       "      <td>0</td>\n",
       "      <td>0</td>\n",
       "      <td>0</td>\n",
       "      <td>1</td>\n",
       "      <td>1</td>\n",
       "      <td>1</td>\n",
       "      <td>0</td>\n",
       "      <td>1</td>\n",
       "      <td>...</td>\n",
       "      <td>0</td>\n",
       "      <td>0</td>\n",
       "      <td>0</td>\n",
       "      <td>0</td>\n",
       "      <td>0</td>\n",
       "      <td>0</td>\n",
       "      <td>0</td>\n",
       "      <td>0</td>\n",
       "      <td>0</td>\n",
       "      <td>0</td>\n",
       "    </tr>\n",
       "    <tr>\n",
       "      <th>2</th>\n",
       "      <td>0</td>\n",
       "      <td>0</td>\n",
       "      <td>0</td>\n",
       "      <td>0</td>\n",
       "      <td>0</td>\n",
       "      <td>1</td>\n",
       "      <td>1</td>\n",
       "      <td>1</td>\n",
       "      <td>0</td>\n",
       "      <td>1</td>\n",
       "      <td>...</td>\n",
       "      <td>0</td>\n",
       "      <td>0</td>\n",
       "      <td>0</td>\n",
       "      <td>0</td>\n",
       "      <td>0</td>\n",
       "      <td>0</td>\n",
       "      <td>0</td>\n",
       "      <td>0</td>\n",
       "      <td>0</td>\n",
       "      <td>0</td>\n",
       "    </tr>\n",
       "    <tr>\n",
       "      <th>3</th>\n",
       "      <td>1</td>\n",
       "      <td>1</td>\n",
       "      <td>1</td>\n",
       "      <td>1</td>\n",
       "      <td>1</td>\n",
       "      <td>1</td>\n",
       "      <td>1</td>\n",
       "      <td>0</td>\n",
       "      <td>0</td>\n",
       "      <td>1</td>\n",
       "      <td>...</td>\n",
       "      <td>0</td>\n",
       "      <td>0</td>\n",
       "      <td>0</td>\n",
       "      <td>0</td>\n",
       "      <td>0</td>\n",
       "      <td>0</td>\n",
       "      <td>0</td>\n",
       "      <td>0</td>\n",
       "      <td>0</td>\n",
       "      <td>0</td>\n",
       "    </tr>\n",
       "    <tr>\n",
       "      <th>4</th>\n",
       "      <td>0</td>\n",
       "      <td>0</td>\n",
       "      <td>0</td>\n",
       "      <td>0</td>\n",
       "      <td>0</td>\n",
       "      <td>1</td>\n",
       "      <td>1</td>\n",
       "      <td>0</td>\n",
       "      <td>0</td>\n",
       "      <td>1</td>\n",
       "      <td>...</td>\n",
       "      <td>0</td>\n",
       "      <td>0</td>\n",
       "      <td>0</td>\n",
       "      <td>0</td>\n",
       "      <td>0</td>\n",
       "      <td>0</td>\n",
       "      <td>0</td>\n",
       "      <td>0</td>\n",
       "      <td>0</td>\n",
       "      <td>0</td>\n",
       "    </tr>\n",
       "  </tbody>\n",
       "</table>\n",
       "<p>5 rows × 129 columns</p>\n",
       "</div>"
      ],
      "text/plain": [
       "   KERNEL32.DLL  LoadLibraryA  ExitProcess  GetProcAddress  VirtualProtect  \\\n",
       "0             1             1            1               1               1   \n",
       "1             0             0            0               0               0   \n",
       "2             0             0            0               0               0   \n",
       "3             1             1            1               1               1   \n",
       "4             0             0            0               0               0   \n",
       "\n",
       "   MSVCRT.dll  atol  SHELL32.dll  SHChangeNotify  USER32.dll  ...  _iob  \\\n",
       "0           1     1            1               1           1  ...     0   \n",
       "1           1     1            1               0           1  ...     0   \n",
       "2           1     1            1               0           1  ...     0   \n",
       "3           1     1            0               0           1  ...     0   \n",
       "4           1     1            0               0           1  ...     0   \n",
       "\n",
       "   NETAPI32.dll  Netbios  PSAPI.DLL  EnumProcessModules  GetDC  ntdll.dll  \\\n",
       "0             0        0          0                   0      0          0   \n",
       "1             0        0          0                   0      0          0   \n",
       "2             0        0          0                   0      0          0   \n",
       "3             0        0          0                   0      0          0   \n",
       "4             0        0          0                   0      0          0   \n",
       "\n",
       "   WSAGetLastError  ShellExecuteA  WSASetLastError  \n",
       "0                0              0                0  \n",
       "1                0              0                0  \n",
       "2                0              0                0  \n",
       "3                0              0                0  \n",
       "4                0              0                0  \n",
       "\n",
       "[5 rows x 129 columns]"
      ]
     },
     "execution_count": 5,
     "metadata": {},
     "output_type": "execute_result"
    }
   ],
   "source": [
    "# convert from float64 to int64\n",
    "df = df.astype('int64')\n",
    "df.head()"
   ]
  },
  {
   "cell_type": "code",
   "execution_count": 6,
   "metadata": {},
   "outputs": [
    {
     "data": {
      "text/plain": [
       "PCA(n_components=2)"
      ]
     },
     "execution_count": 6,
     "metadata": {},
     "output_type": "execute_result"
    }
   ],
   "source": [
    "# import PCA\n",
    "from sklearn.decomposition import PCA\n",
    "\n",
    "# create a PCA instance\n",
    "pca = PCA(2)\n",
    "\n",
    "# fit on data\n",
    "pca.fit(df)"
   ]
  },
  {
   "cell_type": "code",
   "execution_count": 7,
   "metadata": {},
   "outputs": [
    {
     "data": {
      "text/plain": [
       "array([[-1.96739172, -1.16915261],\n",
       "       [ 7.68737812, -0.0871219 ],\n",
       "       [ 7.68737812, -0.0871219 ],\n",
       "       [-1.92186279, -0.4969802 ],\n",
       "       [ 6.40203698,  0.32676727],\n",
       "       [-1.92186279, -0.4969802 ],\n",
       "       [-2.00725804,  2.33175994],\n",
       "       [-1.6842662 ,  2.70176479],\n",
       "       [ 7.68737812, -0.0871219 ],\n",
       "       [-1.56720103, -0.15131943],\n",
       "       [-1.56720103, -0.15131943],\n",
       "       [-1.80519996,  2.84013672],\n",
       "       [-1.96739172, -1.16915261],\n",
       "       [-1.96739172, -1.16915261],\n",
       "       [-1.96739172, -1.16915261],\n",
       "       [-1.92186279, -0.4969802 ],\n",
       "       [-1.92186279, -0.4969802 ],\n",
       "       [ 7.68737812, -0.0871219 ],\n",
       "       [ 7.68737812, -0.0871219 ],\n",
       "       [-1.96739172, -1.16915261],\n",
       "       [-1.56720103, -0.15131943],\n",
       "       [-1.89978587,  2.56944348],\n",
       "       [-1.6842662 ,  2.70176479],\n",
       "       [-1.96739172, -1.16915261],\n",
       "       [-1.96739172, -1.16915261],\n",
       "       [-1.89978587,  2.56944348],\n",
       "       [-1.96739172, -1.16915261],\n",
       "       [ 7.68737812, -0.0871219 ],\n",
       "       [-1.96739172, -1.16915261],\n",
       "       [-1.96739172, -1.16915261],\n",
       "       [-1.80519996,  2.84013672],\n",
       "       [-1.96739172, -1.16915261],\n",
       "       [-1.96739172, -1.16915261],\n",
       "       [-1.92186279, -0.4969802 ],\n",
       "       [-1.96739172, -1.16915261],\n",
       "       [-1.6842662 ,  2.70176479],\n",
       "       [-1.96739172, -1.16915261],\n",
       "       [ 7.68737812, -0.0871219 ],\n",
       "       [-1.96739172, -1.16915261],\n",
       "       [-1.92186279, -0.4969802 ]])"
      ]
     },
     "execution_count": 7,
     "metadata": {},
     "output_type": "execute_result"
    }
   ],
   "source": [
    "new_df = pca.transform(df)\n",
    "new_df"
   ]
  },
  {
   "cell_type": "code",
   "execution_count": 8,
   "metadata": {},
   "outputs": [
    {
     "data": {
      "image/png": "[encoded data removed]",
      "text/plain": [
       "<Figure size 640x480 with 1 Axes>"
      ]
     },
     "metadata": {},
     "output_type": "display_data"
    }
   ],
   "source": [
    "# plt scatter plot\n",
    "plt.scatter(pca.components_[0], pca.components_[1])\n",
    "plt.show()"
   ]
  },
  {
   "cell_type": "code",
   "execution_count": 9,
   "metadata": {},
   "outputs": [
    {
     "data": {
      "image/png": "[encoded data removed]",
      "text/plain": [
       "<Figure size 640x480 with 1 Axes>"
      ]
     },
     "metadata": {},
     "output_type": "display_data"
    }
   ],
   "source": [
    "# plt scatter plot new_df\n",
    "plt.scatter(new_df[:,0], new_df[:,1])\n",
    "plt.show()"
   ]
  },
  {
   "cell_type": "code",
   "execution_count": 10,
   "metadata": {},
   "outputs": [],
   "source": [
    "# scaler = StandardScaler()\n",
    "# X = scaler.fit_transform(df)"
   ]
  },
  {
   "cell_type": "code",
   "execution_count": 11,
   "metadata": {},
   "outputs": [],
   "source": [
    "# X.shape"
   ]
  },
  {
   "cell_type": "code",
   "execution_count": 12,
   "metadata": {},
   "outputs": [],
   "source": [
    "# plot scatter plot X\n",
    "# plt.scatter(X[:,0], X[:,1])\n",
    "# plt.show()"
   ]
  },
  {
   "cell_type": "code",
   "execution_count": 13,
   "metadata": {},
   "outputs": [],
   "source": [
    "Kmeans = KMeans(init = 'random', n_clusters=3, n_init=10, max_iter=40, random_state=42)"
   ]
  },
  {
   "cell_type": "code",
   "execution_count": 14,
   "metadata": {},
   "outputs": [],
   "source": [
    "# Kmeans fit with pca\n"
   ]
  },
  {
   "cell_type": "code",
   "execution_count": 15,
   "metadata": {},
   "outputs": [
    {
     "data": {
      "text/plain": [
       "KMeans(init='random', max_iter=40, n_clusters=3, random_state=42)"
      ]
     },
     "execution_count": 15,
     "metadata": {},
     "output_type": "execute_result"
    }
   ],
   "source": [
    "Kmeans.fit(new_df)"
   ]
  },
  {
   "cell_type": "code",
   "execution_count": 16,
   "metadata": {},
   "outputs": [
    {
     "data": {
      "text/plain": [
       "6.020966804914694"
      ]
     },
     "execution_count": 16,
     "metadata": {},
     "output_type": "execute_result"
    }
   ],
   "source": [
    "Kmeans.inertia_"
   ]
  },
  {
   "cell_type": "code",
   "execution_count": 17,
   "metadata": {},
   "outputs": [
    {
     "data": {
      "text/plain": [
       "array([[-1.90598565, -0.87388036],\n",
       "       [-1.80875354,  2.65702684],\n",
       "       [ 7.52671048, -0.03538575]])"
      ]
     },
     "execution_count": 17,
     "metadata": {},
     "output_type": "execute_result"
    }
   ],
   "source": [
    "Kmeans.cluster_centers_"
   ]
  },
  {
   "cell_type": "code",
   "execution_count": 18,
   "metadata": {},
   "outputs": [
    {
     "data": {
      "text/plain": [
       "array([0, 2, 2, 0, 2, 0, 1, 1, 2, 0, 0, 1, 0, 0, 0, 0, 0, 2, 2, 0, 0, 1,\n",
       "       1, 0, 0, 1, 0, 2, 0, 0, 1, 0, 0, 0, 0, 1, 0, 2, 0, 0])"
      ]
     },
     "execution_count": 18,
     "metadata": {},
     "output_type": "execute_result"
    }
   ],
   "source": [
    "Kmeans.labels_"
   ]
  },
  {
   "cell_type": "code",
   "execution_count": 19,
   "metadata": {},
   "outputs": [
    {
     "data": {
      "text/plain": [
       "3"
      ]
     },
     "execution_count": 19,
     "metadata": {},
     "output_type": "execute_result"
    }
   ],
   "source": [
    "Kmeans.n_iter_"
   ]
  },
  {
   "cell_type": "code",
   "execution_count": 20,
   "metadata": {},
   "outputs": [
    {
     "data": {
      "text/plain": [
       "array([0, 2, 2, 0, 2])"
      ]
     },
     "execution_count": 20,
     "metadata": {},
     "output_type": "execute_result"
    }
   ],
   "source": [
    "y_kmeans = Kmeans.predict(new_df)\n",
    "y_kmeans[:5]"
   ]
  },
  {
   "cell_type": "code",
   "execution_count": 21,
   "metadata": {},
   "outputs": [
    {
     "data": {
      "text/plain": [
       "<matplotlib.collections.PathCollection at 0x2b3f2d6df70>"
      ]
     },
     "execution_count": 21,
     "metadata": {},
     "output_type": "execute_result"
    },
    {
     "data": {
      "image/png": "[encoded data removed]",
      "text/plain": [
       "<Figure size 640x480 with 1 Axes>"
      ]
     },
     "metadata": {},
     "output_type": "display_data"
    }
   ],
   "source": [
    "plt.scatter(new_df[:,0], new_df[:,1], c=y_kmeans, s=50, cmap='viridis')\n",
    "\n",
    "\n",
    "centers = Kmeans.cluster_centers_\n",
    "plt.scatter(centers[:, 0], centers[:, 1], c='red', s=200, alpha=0.5)"
   ]
  },
  {
   "attachments": {},
   "cell_type": "markdown",
   "metadata": {},
   "source": [
    "## Metodo del codo"
   ]
  },
  {
   "cell_type": "code",
   "execution_count": 22,
   "metadata": {},
   "outputs": [],
   "source": [
    "# function returns WSS score for k values from 1 to kmax\n",
    "def calculate_WSS(points, kmax):\n",
    "  sse = []\n",
    "  for k in range(1, kmax+1):\n",
    "    kmeans = KMeans(\n",
    "        init = \"random\",\n",
    "        n_clusters = k,\n",
    "        n_init = 1,\n",
    "        max_iter = 200,\n",
    "        random_state = 123\n",
    "    ).fit(points)\n",
    "    centroids = kmeans.cluster_centers_\n",
    "    pred_clusters = kmeans.predict(points)\n",
    "    curr_sse = 0\n",
    "    \n",
    "    # calculate square of Euclidean distance of each point from its cluster center and add to current WSS\n",
    "    for i in range(len(points)):\n",
    "      curr_center = centroids[pred_clusters[i]]\n",
    "      curr_sse += (points[i, 0] - curr_center[0]) ** 2 + (points[i, 1] - curr_center[1]) ** 2\n",
    "      \n",
    "    sse.append(curr_sse)\n",
    "  return sse"
   ]
  },
  {
   "cell_type": "code",
   "execution_count": 23,
   "metadata": {},
   "outputs": [
    {
     "name": "stderr",
     "output_type": "stream",
     "text": [
      "C:\\Users\\Christian\\AppData\\Local\\Temp\\ipykernel_5360\\2174413888.py:5: ConvergenceWarning: Number of distinct clusters (9) found smaller than n_clusters (10). Possibly due to duplicate points in X.\n",
      "  kmeans = KMeans(\n",
      "C:\\Users\\Christian\\AppData\\Local\\Temp\\ipykernel_5360\\2174413888.py:5: ConvergenceWarning: Number of distinct clusters (9) found smaller than n_clusters (11). Possibly due to duplicate points in X.\n",
      "  kmeans = KMeans(\n",
      "C:\\Users\\Christian\\AppData\\Local\\Temp\\ipykernel_5360\\2174413888.py:5: ConvergenceWarning: Number of distinct clusters (9) found smaller than n_clusters (12). Possibly due to duplicate points in X.\n",
      "  kmeans = KMeans(\n",
      "C:\\Users\\Christian\\AppData\\Local\\Temp\\ipykernel_5360\\2174413888.py:5: ConvergenceWarning: Number of distinct clusters (9) found smaller than n_clusters (13). Possibly due to duplicate points in X.\n",
      "  kmeans = KMeans(\n",
      "C:\\Users\\Christian\\AppData\\Local\\Temp\\ipykernel_5360\\2174413888.py:5: ConvergenceWarning: Number of distinct clusters (9) found smaller than n_clusters (14). Possibly due to duplicate points in X.\n",
      "  kmeans = KMeans(\n",
      "C:\\Users\\Christian\\AppData\\Local\\Temp\\ipykernel_5360\\2174413888.py:5: ConvergenceWarning: Number of distinct clusters (9) found smaller than n_clusters (15). Possibly due to duplicate points in X.\n",
      "  kmeans = KMeans(\n"
     ]
    }
   ],
   "source": [
    "wss = calculate_WSS(new_df, 15)\n",
    "k = [1,2,3,4,5,6,7,8,9,10,11,12,13,14,15]"
   ]
  },
  {
   "cell_type": "code",
   "execution_count": 24,
   "metadata": {},
   "outputs": [
    {
     "data": {
      "text/plain": [
       "<matplotlib.collections.PathCollection at 0x2b3f2de5e50>"
      ]
     },
     "execution_count": 24,
     "metadata": {},
     "output_type": "execute_result"
    },
    {
     "data": {
      "image/png": "[encoded data removed]",
      "text/plain": [
       "<Figure size 640x480 with 1 Axes>"
      ]
     },
     "metadata": {},
     "output_type": "display_data"
    }
   ],
   "source": [
    "plt.scatter(k[:], wss[:], s = 70)"
   ]
  },
  {
   "cell_type": "code",
   "execution_count": 25,
   "metadata": {},
   "outputs": [
    {
     "name": "stdout",
     "output_type": "stream",
     "text": [
      "[647.4077530202585, 544.0939433399915, 6.020966804914693, 4.425486482693086, 0.7872301735905202, 0.5764212811764368, 0.08588860844899533, 0.040526119917057644, 1.4100888680825586e-29, 1.4100888680825586e-29, 6.7053176943786e-30, 1.4102236831786657e-29, 3.0668315841427905e-29, 9.663546088957395e-30, 8.578862344278503e-30]\n"
     ]
    }
   ],
   "source": [
    "print(wss)"
   ]
  },
  {
   "cell_type": "code",
   "execution_count": 28,
   "metadata": {},
   "outputs": [
    {
     "name": "stderr",
     "output_type": "stream",
     "text": [
      "C:\\Users\\Christian\\AppData\\Local\\Temp\\ipykernel_5360\\438860318.py:7: ConvergenceWarning: Number of distinct clusters (9) found smaller than n_clusters (10). Possibly due to duplicate points in X.\n",
      "  kmeans = KMeans(\n",
      "C:\\Users\\Christian\\AppData\\Local\\Temp\\ipykernel_5360\\438860318.py:7: ConvergenceWarning: Number of distinct clusters (9) found smaller than n_clusters (11). Possibly due to duplicate points in X.\n",
      "  kmeans = KMeans(\n",
      "C:\\Users\\Christian\\AppData\\Local\\Temp\\ipykernel_5360\\438860318.py:7: ConvergenceWarning: Number of distinct clusters (9) found smaller than n_clusters (12). Possibly due to duplicate points in X.\n",
      "  kmeans = KMeans(\n",
      "C:\\Users\\Christian\\AppData\\Local\\Temp\\ipykernel_5360\\438860318.py:7: ConvergenceWarning: Number of distinct clusters (9) found smaller than n_clusters (13). Possibly due to duplicate points in X.\n",
      "  kmeans = KMeans(\n",
      "C:\\Users\\Christian\\AppData\\Local\\Temp\\ipykernel_5360\\438860318.py:7: ConvergenceWarning: Number of distinct clusters (9) found smaller than n_clusters (14). Possibly due to duplicate points in X.\n",
      "  kmeans = KMeans(\n",
      "C:\\Users\\Christian\\AppData\\Local\\Temp\\ipykernel_5360\\438860318.py:7: ConvergenceWarning: Number of distinct clusters (9) found smaller than n_clusters (15). Possibly due to duplicate points in X.\n",
      "  kmeans = KMeans(\n"
     ]
    }
   ],
   "source": [
    "from sklearn.metrics import silhouette_score\n",
    "\n",
    "sil = []\n",
    "kmax = 15\n",
    "\n",
    "for k in range (2, kmax+1):\n",
    "  kmeans = KMeans(\n",
    "        init = \"random\",\n",
    "        n_clusters = k,\n",
    "        n_init = 1,\n",
    "        max_iter = 200,\n",
    "        random_state = 123\n",
    "    ).fit(new_df)\n",
    "  etiquetas = kmeans.labels_\n",
    "  sil.append(silhouette_score(new_df, etiquetas, metric = 'euclidean'))"
   ]
  },
  {
   "cell_type": "code",
   "execution_count": 29,
   "metadata": {},
   "outputs": [
    {
     "name": "stdout",
     "output_type": "stream",
     "text": [
      "[1, 2, 3, 4, 5, 6, 7, 8, 9, 10, 11, 12, 13, 14]\n"
     ]
    },
    {
     "data": {
      "text/plain": [
       "<matplotlib.collections.PathCollection at 0x2b3f4172e20>"
      ]
     },
     "execution_count": 29,
     "metadata": {},
     "output_type": "execute_result"
    },
    {
     "data": {
      "image/png": "[encoded data removed]",
      "text/plain": [
       "<Figure size 640x480 with 1 Axes>"
      ]
     },
     "metadata": {},
     "output_type": "display_data"
    }
   ],
   "source": [
    "k = [1,2,3,4,5,6,7,8,9,10,11,12,13,14]\n",
    "print(k)\n",
    "\n",
    "plt.scatter(k, sil)\n"
   ]
  },
  {
   "cell_type": "code",
   "execution_count": 30,
   "metadata": {},
   "outputs": [
    {
     "name": "stdout",
     "output_type": "stream",
     "text": [
      "[0.360335520463945, 0.9009510139548407, 0.8834728178208244, 0.891855070588669, 0.8318164005663169, 0.8986368709429774, 0.8987168492522024, 0.95, 0.95, 0.95, 0.95, 0.95, 0.95, 0.95]\n"
     ]
    }
   ],
   "source": [
    "print(sil)"
   ]
  },
  {
   "cell_type": "code",
   "execution_count": null,
   "metadata": {},
   "outputs": [],
   "source": []
  }
 ],
 "metadata": {
  "kernelspec": {
   "display_name": "data_sciece_env",
   "language": "python",
   "name": "python3"
  },
  "language_info": {
   "codemirror_mode": {
    "name": "ipython",
    "version": 3
   },
   "file_extension": ".py",
   "mimetype": "text/x-python",
   "name": "python",
   "nbconvert_exporter": "python",
   "pygments_lexer": "ipython3",
   "version": "3.9.6"
  },
  "orig_nbformat": 4
 },
 "nbformat": 4,
 "nbformat_minor": 2
}
