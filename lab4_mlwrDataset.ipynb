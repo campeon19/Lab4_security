{
 "cells": [
  {
   "attachments": {},
   "cell_type": "markdown",
   "metadata": {},
   "source": [
    "## Laboratorio 4 "
   ]
  },
  {
   "attachments": {},
   "cell_type": "markdown",
   "metadata": {},
   "source": [
    "#### Creacion de dataset"
   ]
  },
  {
   "cell_type": "code",
   "execution_count": 1,
   "metadata": {},
   "outputs": [],
   "source": [
    "import pefile\n",
    "import pandas as pd\n",
    "import os"
   ]
  },
  {
   "cell_type": "code",
   "execution_count": 2,
   "metadata": {},
   "outputs": [],
   "source": [
    "malwr_list = []\n",
    "dir_path = r'MALWR/'"
   ]
  },
  {
   "cell_type": "code",
   "execution_count": 3,
   "metadata": {},
   "outputs": [
    {
     "name": "stdout",
     "output_type": "stream",
     "text": [
      "['99A39866A657A10949FCB6D634BB30D5', 'KLp90_6D5C8FC4B14559F73B6136D85B94198', 'SAM_B659D71AE168E774FAAF38DB30F4A84', 'FTTR9EA3C16194CE354C244C1B74C46CD92E', 'GFT4_7DDD3D72EAD03C7518F5D47650C8572', 'B07322743778B5868475DBE66EEDAC4F', 'B98hX8E8622C393D7E832D39E620EAD5D3B49', '.DS_Store', 'AAAz2E1B6940985A23E5639450F8391820655', 'DS22_A670D13D4D014169C4080328B8FEB86', 'L11_1415EB8519D13328091CC5C76A624E3D', 'VBMM9_149B7BD7218AAB4E257D28469FDDB0D', 'TG78Z__727A6800991EEAD454E53E8AF164A99C', '785003A405BC7A4EBCBB21DDB757BF3F', 'F8437E44748D2C3FCF84019766F4E6DC', 'FHHH6576C196385407B0F7F4B1B537D88983', '1F2EB7B090018D975E6D9B40868C94CA', '8442AE37B91F279A9F06DE4C60B286A3', 'NV99_C9C9DBF388A8D81D8CFB4D3FC05F8E4', 'GBV66_8F259BB36E00D124963CFA9B86F502E', 'BVJ2D9FBF759F527AF373E34673DC3ACA462', 'RTC_7F85D7F628CE62D1D8F7B39D8940472', 'QW2_4C6BDDCCA2695D6202DF38708E14FC7E', 'AL65_DB05DF0498B59B42A8E493CF3C10C578', 'A316D5AECA269CA865077E7FFF356E7D', '6FAA4740F99408D4D2DDDD0B09BBDEFD', 'FGTR43_EF8E0FB20E7228C7492CCDC59D87C690', '33DE5067A433A6EC5C328067DC18EC37', 'K99_C3A9A7B026BFE0E55FF219FD6AA7D94', 'NBV_8B75BCBFF174C25A0161F30758509A44', 'JKK8CA6FE7A1315AF5AFEAC2961460A80569', 'VC990_468FF2C12CFFC7E5B2FE0EE6BB3B239E', 'FGJKJJ1_2BA0D0083976A5C1E3315413CDCFFCD2', '650A6FCA433EE243391E4B4C11F09438', 'EEE99EC8AA67B05407C01094184C33D2B5A44', 'JH78C0A33A1B472A8C16123FD696A5CE5EBB', 'PL98_BD8B082B7711BC980252F988BB0CA936', 'HJGQDD892986B2249B5214639ECC8AC0223', 'POL55_A4F1ECC4D25B33395196B5D51A06790', '65018CD542145A3792BA09985734C12A', 'F6655E39465C2FF5B016980D918EA028']\n"
     ]
    }
   ],
   "source": [
    "for path in os.listdir(dir_path):\n",
    "    malwr_list.append(path)\n",
    "print(malwr_list)"
   ]
  },
  {
   "cell_type": "code",
   "execution_count": 4,
   "metadata": {},
   "outputs": [],
   "source": [
    "for i in malwr_list:\n",
    "    if i == '.DS_Store':\n",
    "        malwr_list.remove(i)"
   ]
  },
  {
   "cell_type": "code",
   "execution_count": 5,
   "metadata": {},
   "outputs": [
    {
     "name": "stdout",
     "output_type": "stream",
     "text": [
      "40\n"
     ]
    }
   ],
   "source": [
    "print(len(malwr_list))"
   ]
  },
  {
   "cell_type": "code",
   "execution_count": 6,
   "metadata": {},
   "outputs": [],
   "source": [
    "# df = pd.DataFrame(columns=['Name', 'Sections', 'ImportsDLL', \"Imports\"])\n",
    "# for mlwr in malwr_list:\n",
    "#     pe = pefile.PE(dir_path + mlwr)\n",
    "#     section_names = \"\"\n",
    "#     imports_dll = \"\"\n",
    "#     imports_pe = \"\"\n",
    "#     for section in pe.sections:\n",
    "#         section_names = section_names + ' ' + section.Name.decode('UTF-8')\n",
    "#     for entry in pe.DIRECTORY_ENTRY_IMPORT:\n",
    "#         imports_dll = imports_dll + \" \" + entry.dll.decode('UTF-8')\n",
    "#         for imp in entry.imports:\n",
    "#             imports_pe = imports_pe + \" \" + imp.name.decode('UTF-8')\n",
    "\n",
    "#     df = df.append({'Name': mlwr, 'Sections': section_names ,'ImportsDLL': imports_dll, 'Imports': imports_pe}, ignore_index=True)"
   ]
  },
  {
   "cell_type": "code",
   "execution_count": 7,
   "metadata": {},
   "outputs": [
    {
     "data": {
      "text/html": [
       "<div>\n",
       "<style scoped>\n",
       "    .dataframe tbody tr th:only-of-type {\n",
       "        vertical-align: middle;\n",
       "    }\n",
       "\n",
       "    .dataframe tbody tr th {\n",
       "        vertical-align: top;\n",
       "    }\n",
       "\n",
       "    .dataframe thead th {\n",
       "        text-align: right;\n",
       "    }\n",
       "</style>\n",
       "<table border=\"1\" class=\"dataframe\">\n",
       "  <thead>\n",
       "    <tr style=\"text-align: right;\">\n",
       "      <th></th>\n",
       "      <th>Name</th>\n",
       "      <th>Sections</th>\n",
       "      <th>ImportsDLL</th>\n",
       "      <th>Imports</th>\n",
       "    </tr>\n",
       "  </thead>\n",
       "  <tbody>\n",
       "    <tr>\n",
       "      <th>0</th>\n",
       "      <td>99A39866A657A10949FCB6D634BB30D5</td>\n",
       "      <td>UPX0\u0000\u0000\u0000\u0000 UPX1\u0000\u0000\u0000\u0000 .rsrc\u0000\u0000\u0000</td>\n",
       "      <td>KERNEL32.DLL MSVCRT.dll SHELL32.dll USER32.dl...</td>\n",
       "      <td>LoadLibraryA ExitProcess GetProcAddress Virtu...</td>\n",
       "    </tr>\n",
       "    <tr>\n",
       "      <th>1</th>\n",
       "      <td>KLp90_6D5C8FC4B14559F73B6136D85B94198</td>\n",
       "      <td>.text\u0000\u0000\u0000 .rdata\u0000\u0000 .data\u0000\u0000\u0000</td>\n",
       "      <td>KERNEL32.dll USER32.dll ADVAPI32.dll SHELL32....</td>\n",
       "      <td>CreateFileA LocalAlloc Sleep CreateThread Cre...</td>\n",
       "    </tr>\n",
       "    <tr>\n",
       "      <th>2</th>\n",
       "      <td>SAM_B659D71AE168E774FAAF38DB30F4A84</td>\n",
       "      <td>.text\u0000\u0000\u0000 .rdata\u0000\u0000 .data\u0000\u0000\u0000</td>\n",
       "      <td>KERNEL32.dll USER32.dll ADVAPI32.dll SHELL32....</td>\n",
       "      <td>CreateFileA LocalAlloc Sleep CreateThread Cre...</td>\n",
       "    </tr>\n",
       "    <tr>\n",
       "      <th>3</th>\n",
       "      <td>FTTR9EA3C16194CE354C244C1B74C46CD92E</td>\n",
       "      <td>UPX0\u0000\u0000\u0000\u0000 UPX1\u0000\u0000\u0000\u0000 .rsrc\u0000\u0000\u0000</td>\n",
       "      <td>KERNEL32.DLL MSVCRT.dll USER32.dll WS2_32.dll</td>\n",
       "      <td>LoadLibraryA ExitProcess GetProcAddress Virtu...</td>\n",
       "    </tr>\n",
       "    <tr>\n",
       "      <th>4</th>\n",
       "      <td>GFT4_7DDD3D72EAD03C7518F5D47650C8572</td>\n",
       "      <td>.text\u0000\u0000\u0000 .rdata\u0000\u0000 .data\u0000\u0000\u0000 .rsrc\u0000\u0000\u0000</td>\n",
       "      <td>KERNEL32.dll USER32.dll ADVAPI32.dll MSVCRT.d...</td>\n",
       "      <td>GetModuleHandleA GetWindowsDirectoryA GetModu...</td>\n",
       "    </tr>\n",
       "  </tbody>\n",
       "</table>\n",
       "</div>"
      ],
      "text/plain": [
       "                                    Name  \\\n",
       "0       99A39866A657A10949FCB6D634BB30D5   \n",
       "1  KLp90_6D5C8FC4B14559F73B6136D85B94198   \n",
       "2    SAM_B659D71AE168E774FAAF38DB30F4A84   \n",
       "3   FTTR9EA3C16194CE354C244C1B74C46CD92E   \n",
       "4   GFT4_7DDD3D72EAD03C7518F5D47650C8572   \n",
       "\n",
       "                               Sections  \\\n",
       "0            UPX0\u0000\u0000\u0000\u0000 UPX1\u0000\u0000\u0000\u0000 .rsrc\u0000\u0000\u0000   \n",
       "1            .text\u0000\u0000\u0000 .rdata\u0000\u0000 .data\u0000\u0000\u0000   \n",
       "2            .text\u0000\u0000\u0000 .rdata\u0000\u0000 .data\u0000\u0000\u0000   \n",
       "3            UPX0\u0000\u0000\u0000\u0000 UPX1\u0000\u0000\u0000\u0000 .rsrc\u0000\u0000\u0000   \n",
       "4   .text\u0000\u0000\u0000 .rdata\u0000\u0000 .data\u0000\u0000\u0000 .rsrc\u0000\u0000\u0000   \n",
       "\n",
       "                                          ImportsDLL  \\\n",
       "0   KERNEL32.DLL MSVCRT.dll SHELL32.dll USER32.dl...   \n",
       "1   KERNEL32.dll USER32.dll ADVAPI32.dll SHELL32....   \n",
       "2   KERNEL32.dll USER32.dll ADVAPI32.dll SHELL32....   \n",
       "3      KERNEL32.DLL MSVCRT.dll USER32.dll WS2_32.dll   \n",
       "4   KERNEL32.dll USER32.dll ADVAPI32.dll MSVCRT.d...   \n",
       "\n",
       "                                             Imports  \n",
       "0   LoadLibraryA ExitProcess GetProcAddress Virtu...  \n",
       "1   CreateFileA LocalAlloc Sleep CreateThread Cre...  \n",
       "2   CreateFileA LocalAlloc Sleep CreateThread Cre...  \n",
       "3   LoadLibraryA ExitProcess GetProcAddress Virtu...  \n",
       "4   GetModuleHandleA GetWindowsDirectoryA GetModu...  "
      ]
     },
     "execution_count": 7,
     "metadata": {},
     "output_type": "execute_result"
    }
   ],
   "source": [
    "# df.head()"
   ]
  },
  {
   "cell_type": "code",
   "execution_count": 8,
   "metadata": {},
   "outputs": [
    {
     "data": {
      "text/plain": [
       "' CreateFileA LocalAlloc Sleep CreateThread CreateMutexA CopyFileW GetFileSize CreateProcessA GetEnvironmentVariableW GetShortPathNameW GetStartupInfoA GetModuleHandleA ReadFile LocalFree GetLastError GetModuleFileNameW CloseHandle SendMessageA FindWindowExA RegQueryValueExA RegCloseKey RegSetValueExW RegOpenKeyExA SHGetSpecialFolderPathW ShellExecuteW _controlfp _except_handler3 __set_app_type memset __CxxFrameHandler strlen sprintf memcpy strcpy strcat _mbsnbcpy _mbsnbcmp atol _mbscmp atoi fclose fwrite fopen strstr wcslen wcstombs setlocale wcscmp wcscat mbstowcs wcsrchr wcscpy getenv strcmp time free __dllonexit _onexit _exit _XcptFilter exit _acmdln __getmainargs _initterm __setusermatherr _adjust_fdiv __p__commode __p__fmode _strnicmp HttpAddRequestHeadersA HttpOpenRequestA HttpEndRequestA InternetWriteFile HttpSendRequestA InternetReadFile HttpQueryInfoA InternetAttemptConnect InternetCloseHandle InternetConnectA InternetOpenA HttpSendRequestExA gethostbyname inet_ntoa WSAStartup gethostname'"
      ]
     },
     "execution_count": 8,
     "metadata": {},
     "output_type": "execute_result"
    }
   ],
   "source": [
    "# df['Sections'][0]\n",
    "# print(df['ImportsDLL'][0])\n",
    "# df['Imports'][1]"
   ]
  },
  {
   "cell_type": "code",
   "execution_count": 19,
   "metadata": {},
   "outputs": [
    {
     "name": "stderr",
     "output_type": "stream",
     "text": [
      "/usr/lib/python3/dist-packages/pandas/core/indexing.py:1684: PerformanceWarning: DataFrame is highly fragmented.  This is usually the result of calling `frame.insert` many times, which has poor performance.  Consider joining all columns at once using pd.concat(axis=1) instead.  To get a de-fragmented frame, use `newframe = frame.copy()`\n",
      "  self.obj[key] = infer_fill_value(value)\n"
     ]
    }
   ],
   "source": [
    "df2 = pd.DataFrame(columns=['name'])\n",
    "for mlwr in malwr_list:\n",
    "    imports_pe = []\n",
    "    pe = pefile.PE(dir_path + mlwr)\n",
    "    for entry in pe.DIRECTORY_ENTRY_IMPORT:\n",
    "        imports_pe.append(entry.dll.decode('utf-8'))\n",
    "        for imp in entry.imports:\n",
    "            imports_pe.append(imp.name.decode('utf-8'))\n",
    "    df2 = df2.append({'name': mlwr}, ignore_index=True)\n",
    "    # verify if import in imports_pe is in df. if import in df, put 1 in the column else create a new column and put 1. For the rest of the columns put 0\n",
    "    for imp in imports_pe:\n",
    "        if imp in df.columns:\n",
    "            df2.loc[df2['name'] == mlwr, imp] = 1\n",
    "        else:\n",
    "            # df2[imp] = 0\n",
    "            df2.loc[df2['name'] == mlwr, imp] = 1\n",
    "df2 = df2.fillna(0)"
   ]
  },
  {
   "cell_type": "code",
   "execution_count": 20,
   "metadata": {},
   "outputs": [
    {
     "data": {
      "text/html": [
       "<div>\n",
       "<style scoped>\n",
       "    .dataframe tbody tr th:only-of-type {\n",
       "        vertical-align: middle;\n",
       "    }\n",
       "\n",
       "    .dataframe tbody tr th {\n",
       "        vertical-align: top;\n",
       "    }\n",
       "\n",
       "    .dataframe thead th {\n",
       "        text-align: right;\n",
       "    }\n",
       "</style>\n",
       "<table border=\"1\" class=\"dataframe\">\n",
       "  <thead>\n",
       "    <tr style=\"text-align: right;\">\n",
       "      <th></th>\n",
       "      <th>name</th>\n",
       "      <th>KERNEL32.DLL</th>\n",
       "      <th>LoadLibraryA</th>\n",
       "      <th>ExitProcess</th>\n",
       "      <th>GetProcAddress</th>\n",
       "      <th>VirtualProtect</th>\n",
       "      <th>MSVCRT.dll</th>\n",
       "      <th>atol</th>\n",
       "      <th>SHELL32.dll</th>\n",
       "      <th>SHChangeNotify</th>\n",
       "      <th>...</th>\n",
       "      <th>_iob</th>\n",
       "      <th>NETAPI32.dll</th>\n",
       "      <th>Netbios</th>\n",
       "      <th>PSAPI.DLL</th>\n",
       "      <th>EnumProcessModules</th>\n",
       "      <th>GetDC</th>\n",
       "      <th>ntdll.dll</th>\n",
       "      <th>WSAGetLastError</th>\n",
       "      <th>ShellExecuteA</th>\n",
       "      <th>WSASetLastError</th>\n",
       "    </tr>\n",
       "  </thead>\n",
       "  <tbody>\n",
       "    <tr>\n",
       "      <th>0</th>\n",
       "      <td>99A39866A657A10949FCB6D634BB30D5</td>\n",
       "      <td>1.0</td>\n",
       "      <td>1.0</td>\n",
       "      <td>1.0</td>\n",
       "      <td>1.0</td>\n",
       "      <td>1.0</td>\n",
       "      <td>1.0</td>\n",
       "      <td>1.0</td>\n",
       "      <td>1.0</td>\n",
       "      <td>1.0</td>\n",
       "      <td>...</td>\n",
       "      <td>0.0</td>\n",
       "      <td>0.0</td>\n",
       "      <td>0.0</td>\n",
       "      <td>0.0</td>\n",
       "      <td>0.0</td>\n",
       "      <td>0.0</td>\n",
       "      <td>0.0</td>\n",
       "      <td>0.0</td>\n",
       "      <td>0.0</td>\n",
       "      <td>0.0</td>\n",
       "    </tr>\n",
       "    <tr>\n",
       "      <th>1</th>\n",
       "      <td>KLp90_6D5C8FC4B14559F73B6136D85B94198</td>\n",
       "      <td>0.0</td>\n",
       "      <td>0.0</td>\n",
       "      <td>0.0</td>\n",
       "      <td>0.0</td>\n",
       "      <td>0.0</td>\n",
       "      <td>1.0</td>\n",
       "      <td>1.0</td>\n",
       "      <td>1.0</td>\n",
       "      <td>0.0</td>\n",
       "      <td>...</td>\n",
       "      <td>0.0</td>\n",
       "      <td>0.0</td>\n",
       "      <td>0.0</td>\n",
       "      <td>0.0</td>\n",
       "      <td>0.0</td>\n",
       "      <td>0.0</td>\n",
       "      <td>0.0</td>\n",
       "      <td>0.0</td>\n",
       "      <td>0.0</td>\n",
       "      <td>0.0</td>\n",
       "    </tr>\n",
       "    <tr>\n",
       "      <th>2</th>\n",
       "      <td>SAM_B659D71AE168E774FAAF38DB30F4A84</td>\n",
       "      <td>0.0</td>\n",
       "      <td>0.0</td>\n",
       "      <td>0.0</td>\n",
       "      <td>0.0</td>\n",
       "      <td>0.0</td>\n",
       "      <td>1.0</td>\n",
       "      <td>1.0</td>\n",
       "      <td>1.0</td>\n",
       "      <td>0.0</td>\n",
       "      <td>...</td>\n",
       "      <td>0.0</td>\n",
       "      <td>0.0</td>\n",
       "      <td>0.0</td>\n",
       "      <td>0.0</td>\n",
       "      <td>0.0</td>\n",
       "      <td>0.0</td>\n",
       "      <td>0.0</td>\n",
       "      <td>0.0</td>\n",
       "      <td>0.0</td>\n",
       "      <td>0.0</td>\n",
       "    </tr>\n",
       "    <tr>\n",
       "      <th>3</th>\n",
       "      <td>FTTR9EA3C16194CE354C244C1B74C46CD92E</td>\n",
       "      <td>1.0</td>\n",
       "      <td>1.0</td>\n",
       "      <td>1.0</td>\n",
       "      <td>1.0</td>\n",
       "      <td>1.0</td>\n",
       "      <td>1.0</td>\n",
       "      <td>1.0</td>\n",
       "      <td>0.0</td>\n",
       "      <td>0.0</td>\n",
       "      <td>...</td>\n",
       "      <td>0.0</td>\n",
       "      <td>0.0</td>\n",
       "      <td>0.0</td>\n",
       "      <td>0.0</td>\n",
       "      <td>0.0</td>\n",
       "      <td>0.0</td>\n",
       "      <td>0.0</td>\n",
       "      <td>0.0</td>\n",
       "      <td>0.0</td>\n",
       "      <td>0.0</td>\n",
       "    </tr>\n",
       "    <tr>\n",
       "      <th>4</th>\n",
       "      <td>GFT4_7DDD3D72EAD03C7518F5D47650C8572</td>\n",
       "      <td>0.0</td>\n",
       "      <td>0.0</td>\n",
       "      <td>0.0</td>\n",
       "      <td>0.0</td>\n",
       "      <td>0.0</td>\n",
       "      <td>1.0</td>\n",
       "      <td>1.0</td>\n",
       "      <td>0.0</td>\n",
       "      <td>0.0</td>\n",
       "      <td>...</td>\n",
       "      <td>0.0</td>\n",
       "      <td>0.0</td>\n",
       "      <td>0.0</td>\n",
       "      <td>0.0</td>\n",
       "      <td>0.0</td>\n",
       "      <td>0.0</td>\n",
       "      <td>0.0</td>\n",
       "      <td>0.0</td>\n",
       "      <td>0.0</td>\n",
       "      <td>0.0</td>\n",
       "    </tr>\n",
       "  </tbody>\n",
       "</table>\n",
       "<p>5 rows × 130 columns</p>\n",
       "</div>"
      ],
      "text/plain": [
       "                                    name  KERNEL32.DLL  LoadLibraryA  \\\n",
       "0       99A39866A657A10949FCB6D634BB30D5           1.0           1.0   \n",
       "1  KLp90_6D5C8FC4B14559F73B6136D85B94198           0.0           0.0   \n",
       "2    SAM_B659D71AE168E774FAAF38DB30F4A84           0.0           0.0   \n",
       "3   FTTR9EA3C16194CE354C244C1B74C46CD92E           1.0           1.0   \n",
       "4   GFT4_7DDD3D72EAD03C7518F5D47650C8572           0.0           0.0   \n",
       "\n",
       "   ExitProcess  GetProcAddress  VirtualProtect  MSVCRT.dll  atol  SHELL32.dll  \\\n",
       "0          1.0             1.0             1.0         1.0   1.0          1.0   \n",
       "1          0.0             0.0             0.0         1.0   1.0          1.0   \n",
       "2          0.0             0.0             0.0         1.0   1.0          1.0   \n",
       "3          1.0             1.0             1.0         1.0   1.0          0.0   \n",
       "4          0.0             0.0             0.0         1.0   1.0          0.0   \n",
       "\n",
       "   SHChangeNotify  ...  _iob  NETAPI32.dll  Netbios  PSAPI.DLL  \\\n",
       "0             1.0  ...   0.0           0.0      0.0        0.0   \n",
       "1             0.0  ...   0.0           0.0      0.0        0.0   \n",
       "2             0.0  ...   0.0           0.0      0.0        0.0   \n",
       "3             0.0  ...   0.0           0.0      0.0        0.0   \n",
       "4             0.0  ...   0.0           0.0      0.0        0.0   \n",
       "\n",
       "   EnumProcessModules  GetDC  ntdll.dll  WSAGetLastError  ShellExecuteA  \\\n",
       "0                 0.0    0.0        0.0              0.0            0.0   \n",
       "1                 0.0    0.0        0.0              0.0            0.0   \n",
       "2                 0.0    0.0        0.0              0.0            0.0   \n",
       "3                 0.0    0.0        0.0              0.0            0.0   \n",
       "4                 0.0    0.0        0.0              0.0            0.0   \n",
       "\n",
       "   WSASetLastError  \n",
       "0              0.0  \n",
       "1              0.0  \n",
       "2              0.0  \n",
       "3              0.0  \n",
       "4              0.0  \n",
       "\n",
       "[5 rows x 130 columns]"
      ]
     },
     "execution_count": 20,
     "metadata": {},
     "output_type": "execute_result"
    }
   ],
   "source": [
    "df2.head()"
   ]
  },
  {
   "cell_type": "code",
   "execution_count": null,
   "metadata": {},
   "outputs": [],
   "source": [
    "df2.to_csv('malwr.csv', index=True)"
   ]
  }
 ],
 "metadata": {
  "kernelspec": {
   "display_name": "Python 3",
   "language": "python",
   "name": "python3"
  },
  "language_info": {
   "codemirror_mode": {
    "name": "ipython",
    "version": 3
   },
   "file_extension": ".py",
   "mimetype": "text/x-python",
   "name": "python",
   "nbconvert_exporter": "python",
   "pygments_lexer": "ipython3",
   "version": "3.10.5"
  },
  "orig_nbformat": 4
 },
 "nbformat": 4,
 "nbformat_minor": 2
}
